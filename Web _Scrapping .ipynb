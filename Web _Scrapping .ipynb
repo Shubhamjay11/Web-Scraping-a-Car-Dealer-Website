{
 "cells": [
  {
   "cell_type": "markdown",
   "metadata": {},
   "source": [
    "### Imports"
   ]
  },
  {
   "cell_type": "code",
   "execution_count": 28,
   "metadata": {},
   "outputs": [],
   "source": [
    "from bs4 import BeautifulSoup\n",
    "import requests\n",
    "import pandas as pd "
   ]
  },
  {
   "cell_type": "markdown",
   "metadata": {},
   "source": [
    "### HTTP Request"
   ]
  },
  {
   "cell_type": "markdown",
   "metadata": {},
   "source": [
    "#### store website in variable"
   ]
  },
  {
   "cell_type": "code",
   "execution_count": 29,
   "metadata": {},
   "outputs": [],
   "source": [
    "website = 'https://www.cars.com/shopping/results/?stock_type=cpo&makes%5B%5D=mercedes_benz&models%5B%5D=&list_price_max=&maximum_distance=20&zip='"
   ]
  },
  {
   "cell_type": "markdown",
   "metadata": {},
   "source": [
    "#### Get Request"
   ]
  },
  {
   "cell_type": "code",
   "execution_count": 30,
   "metadata": {},
   "outputs": [],
   "source": [
    "response = requests.get(website)"
   ]
  },
  {
   "cell_type": "markdown",
   "metadata": {},
   "source": [
    "#### Status Code"
   ]
  },
  {
   "cell_type": "code",
   "execution_count": 31,
   "metadata": {},
   "outputs": [
    {
     "data": {
      "text/plain": [
       "200"
      ]
     },
     "execution_count": 31,
     "metadata": {},
     "output_type": "execute_result"
    }
   ],
   "source": [
    "response.status_code"
   ]
  },
  {
   "cell_type": "markdown",
   "metadata": {},
   "source": [
    "### Soup Object"
   ]
  },
  {
   "cell_type": "code",
   "execution_count": 32,
   "metadata": {},
   "outputs": [],
   "source": [
    "soup = BeautifulSoup(response.content, 'html.parser')"
   ]
  },
  {
   "cell_type": "markdown",
   "metadata": {},
   "source": [
    "### Results"
   ]
  },
  {
   "cell_type": "code",
   "execution_count": 33,
   "metadata": {},
   "outputs": [],
   "source": [
    "results = soup.find_all('div', {'class' : 'vehicle-card'})"
   ]
  },
  {
   "cell_type": "code",
   "execution_count": 34,
   "metadata": {},
   "outputs": [
    {
     "data": {
      "text/plain": [
       "20"
      ]
     },
     "execution_count": 34,
     "metadata": {},
     "output_type": "execute_result"
    }
   ],
   "source": [
    "len(results)"
   ]
  },
  {
   "cell_type": "markdown",
   "metadata": {},
   "source": [
    "### Target necessary data"
   ]
  },
  {
   "cell_type": "code",
   "execution_count": 35,
   "metadata": {},
   "outputs": [],
   "source": [
    "# Name\n",
    "# Mileage\n",
    "# Dealer Name\n",
    "# Rating\n",
    "# Rating Count\n",
    "# Price"
   ]
  },
  {
   "cell_type": "markdown",
   "metadata": {},
   "source": [
    "#### Name"
   ]
  },
  {
   "cell_type": "code",
   "execution_count": 36,
   "metadata": {},
   "outputs": [
    {
     "data": {
      "text/plain": [
       "'2018 Mercedes-Benz AMG S 65 Base'"
      ]
     },
     "execution_count": 36,
     "metadata": {},
     "output_type": "execute_result"
    }
   ],
   "source": [
    "results[0].find('h2').get_text()"
   ]
  },
  {
   "cell_type": "markdown",
   "metadata": {},
   "source": [
    "#### Mileage"
   ]
  },
  {
   "cell_type": "code",
   "execution_count": 37,
   "metadata": {},
   "outputs": [
    {
     "data": {
      "text/plain": [
       "'16,324 mi.'"
      ]
     },
     "execution_count": 37,
     "metadata": {},
     "output_type": "execute_result"
    }
   ],
   "source": [
    "results[0].find('div', {'class':'mileage'}).get_text()"
   ]
  },
  {
   "cell_type": "markdown",
   "metadata": {},
   "source": [
    "#### Dealer Name"
   ]
  },
  {
   "cell_type": "code",
   "execution_count": 38,
   "metadata": {},
   "outputs": [
    {
     "data": {
      "text/plain": [
       "'Mercedes-Benz of Houston Greenway'"
      ]
     },
     "execution_count": 38,
     "metadata": {},
     "output_type": "execute_result"
    }
   ],
   "source": [
    "results[0].find('div', {'class':'dealer-name'}).get_text().strip()"
   ]
  },
  {
   "cell_type": "markdown",
   "metadata": {},
   "source": [
    "#### Rating"
   ]
  },
  {
   "cell_type": "code",
   "execution_count": 39,
   "metadata": {},
   "outputs": [
    {
     "data": {
      "text/plain": [
       "'4.8'"
      ]
     },
     "execution_count": 39,
     "metadata": {},
     "output_type": "execute_result"
    }
   ],
   "source": [
    "results[0].find('span', {'class':'sds-rating__count'}).get_text()"
   ]
  },
  {
   "cell_type": "markdown",
   "metadata": {},
   "source": [
    "#### Review Count"
   ]
  },
  {
   "cell_type": "code",
   "execution_count": 40,
   "metadata": {},
   "outputs": [
    {
     "data": {
      "text/plain": [
       "'(2,260 reviews)'"
      ]
     },
     "execution_count": 40,
     "metadata": {},
     "output_type": "execute_result"
    }
   ],
   "source": [
    "results[0].find('span', {'class':'sds-rating__link'}).get_text()"
   ]
  },
  {
   "cell_type": "markdown",
   "metadata": {},
   "source": [
    "#### Price"
   ]
  },
  {
   "cell_type": "code",
   "execution_count": 41,
   "metadata": {},
   "outputs": [
    {
     "data": {
      "text/plain": [
       "'$148,991'"
      ]
     },
     "execution_count": 41,
     "metadata": {},
     "output_type": "execute_result"
    }
   ],
   "source": [
    "results[0].find('span', {'class':'primary-price'}).get_text()"
   ]
  },
  {
   "cell_type": "markdown",
   "metadata": {},
   "source": [
    "### Put everything together inside a For-Loop"
   ]
  },
  {
   "cell_type": "code",
   "execution_count": 54,
   "metadata": {},
   "outputs": [],
   "source": [
    "name = []\n",
    "mileage = []\n",
    "dealer_name = []\n",
    "rating = []\n",
    "review_count = []\n",
    "price = []\n",
    "\n",
    "for result in results:\n",
    "    \n",
    "    # name\n",
    "    try:\n",
    "        name.append(result.find('h2').get_text()) \n",
    "    except:\n",
    "        name.append('n/a')\n",
    "    \n",
    "    # mileage\n",
    "    try:\n",
    "        mileage.append(result.find('div', {'class':'mileage'}).get_text())\n",
    "    except:\n",
    "        mileage.append('n/a')\n",
    "    \n",
    "    # dealer_name\n",
    "    try:\n",
    "        dealer_name.append(result.find('div', {'class':'dealer-name'}).get_text().strip())\n",
    "    except:\n",
    "        dealer_name.append('n/a')\n",
    "        \n",
    "    # rating\n",
    "    try:\n",
    "        rating.append(result.find('span', {'class':'sds-rating__count'}).get_text())\n",
    "    except:\n",
    "        rating.append('n/a')\n",
    "    \n",
    "    # review_count\n",
    "    try:\n",
    "        review_count.append(result.find('span', {'class':'sds-rating__link'}).get_text())\n",
    "    except:\n",
    "        review_count.append('n/a')\n",
    "    \n",
    "    #price \n",
    "    try:\n",
    "        price.append(result.find('span', {'class':'primary-price'}).get_text())\n",
    "    except:\n",
    "        price.append('n/a')"
   ]
  },
  {
   "cell_type": "markdown",
   "metadata": {},
   "source": [
    "### Create Pandas Dataframe"
   ]
  },
  {
   "cell_type": "code",
   "execution_count": 43,
   "metadata": {},
   "outputs": [],
   "source": [
    "# dictionary\n",
    "car_dealer = pd.DataFrame({'Name': name, 'Mileage':mileage, 'Dealer Name':dealer_name,\n",
    "                                'Rating': rating, 'Review Count': review_count, 'Price': price})"
   ]
  },
  {
   "cell_type": "code",
   "execution_count": 44,
   "metadata": {},
   "outputs": [
    {
     "data": {
      "text/html": [
       "<div>\n",
       "<style scoped>\n",
       "    .dataframe tbody tr th:only-of-type {\n",
       "        vertical-align: middle;\n",
       "    }\n",
       "\n",
       "    .dataframe tbody tr th {\n",
       "        vertical-align: top;\n",
       "    }\n",
       "\n",
       "    .dataframe thead th {\n",
       "        text-align: right;\n",
       "    }\n",
       "</style>\n",
       "<table border=\"1\" class=\"dataframe\">\n",
       "  <thead>\n",
       "    <tr style=\"text-align: right;\">\n",
       "      <th></th>\n",
       "      <th>Name</th>\n",
       "      <th>Mileage</th>\n",
       "      <th>Dealer Name</th>\n",
       "      <th>Rating</th>\n",
       "      <th>Review Count</th>\n",
       "      <th>Price</th>\n",
       "    </tr>\n",
       "  </thead>\n",
       "  <tbody>\n",
       "    <tr>\n",
       "      <th>0</th>\n",
       "      <td>2018 Mercedes-Benz AMG S 65 Base</td>\n",
       "      <td>16,324 mi.</td>\n",
       "      <td>Mercedes-Benz of Houston Greenway</td>\n",
       "      <td>4.8</td>\n",
       "      <td>(2,260 reviews)</td>\n",
       "      <td>$148,991</td>\n",
       "    </tr>\n",
       "    <tr>\n",
       "      <th>1</th>\n",
       "      <td>2020 Mercedes-Benz GLE 350 Base 4MATIC</td>\n",
       "      <td>23,253 mi.</td>\n",
       "      <td>Mercedes-Benz of Houston Greenway</td>\n",
       "      <td>4.8</td>\n",
       "      <td>(2,260 reviews)</td>\n",
       "      <td>$51,986</td>\n",
       "    </tr>\n",
       "    <tr>\n",
       "      <th>2</th>\n",
       "      <td>2021 Mercedes-Benz AMG E 53 Base 4MATIC</td>\n",
       "      <td>2,987 mi.</td>\n",
       "      <td>Mercedes-Benz of Wesley Chapel</td>\n",
       "      <td>4.4</td>\n",
       "      <td>(708 reviews)</td>\n",
       "      <td>$90,280</td>\n",
       "    </tr>\n",
       "    <tr>\n",
       "      <th>3</th>\n",
       "      <td>2021 Mercedes-Benz GLS 580 Base 4MATIC</td>\n",
       "      <td>12,235 mi.</td>\n",
       "      <td>Mercedes-Benz of Stevens Creek</td>\n",
       "      <td>4.5</td>\n",
       "      <td>(1,851 reviews)</td>\n",
       "      <td>$100,955</td>\n",
       "    </tr>\n",
       "    <tr>\n",
       "      <th>4</th>\n",
       "      <td>2019 Mercedes-Benz AMG GT 63 S 4-Door</td>\n",
       "      <td>30,750 mi.</td>\n",
       "      <td>Mercedes-Benz of Fort Lauderdale</td>\n",
       "      <td>4.6</td>\n",
       "      <td>(1,070 reviews)</td>\n",
       "      <td>$111,900</td>\n",
       "    </tr>\n",
       "    <tr>\n",
       "      <th>5</th>\n",
       "      <td>2020 Mercedes-Benz C-Class C 300 4MATIC</td>\n",
       "      <td>20,210 mi.</td>\n",
       "      <td>Mercedes-Benz of Marietta</td>\n",
       "      <td>4.7</td>\n",
       "      <td>(511 reviews)</td>\n",
       "      <td>$38,399</td>\n",
       "    </tr>\n",
       "    <tr>\n",
       "      <th>6</th>\n",
       "      <td>2019 Mercedes-Benz GLC 300 GLC 300 4matic</td>\n",
       "      <td>41,001 mi.</td>\n",
       "      <td>Mercedes-Benz of Morgantown</td>\n",
       "      <td>n/a</td>\n",
       "      <td>(1 review)</td>\n",
       "      <td>$38,752</td>\n",
       "    </tr>\n",
       "    <tr>\n",
       "      <th>7</th>\n",
       "      <td>2020 Mercedes-Benz CLS 450 CLS 450</td>\n",
       "      <td>8,603 mi.</td>\n",
       "      <td>Mercedes-Benz of Palm Springs</td>\n",
       "      <td>4.3</td>\n",
       "      <td>(345 reviews)</td>\n",
       "      <td>$67,985</td>\n",
       "    </tr>\n",
       "    <tr>\n",
       "      <th>8</th>\n",
       "      <td>2019 Mercedes-Benz C-Class C 300</td>\n",
       "      <td>9,216 mi.</td>\n",
       "      <td>Mercedes-Benz of Stevens Creek</td>\n",
       "      <td>4.5</td>\n",
       "      <td>(1,851 reviews)</td>\n",
       "      <td>$33,455</td>\n",
       "    </tr>\n",
       "    <tr>\n",
       "      <th>9</th>\n",
       "      <td>2019 Mercedes-Benz S-Class S 560 4matic</td>\n",
       "      <td>34,021 mi.</td>\n",
       "      <td>Mercedes-Benz of Morgantown</td>\n",
       "      <td>n/a</td>\n",
       "      <td>(1 review)</td>\n",
       "      <td>$73,523</td>\n",
       "    </tr>\n",
       "    <tr>\n",
       "      <th>10</th>\n",
       "      <td>2018 Mercedes-Benz AMG GLE 43 AMG GLE 43</td>\n",
       "      <td>44,030 mi.</td>\n",
       "      <td>Mercedes-Benz of Morgantown</td>\n",
       "      <td>n/a</td>\n",
       "      <td>(1 review)</td>\n",
       "      <td>$59,900</td>\n",
       "    </tr>\n",
       "    <tr>\n",
       "      <th>11</th>\n",
       "      <td>2022 Mercedes-Benz GLC 300 GLC 300</td>\n",
       "      <td>3,485 mi.</td>\n",
       "      <td>Mercedes-Benz of Palm Springs</td>\n",
       "      <td>4.3</td>\n",
       "      <td>(345 reviews)</td>\n",
       "      <td>$42,985</td>\n",
       "    </tr>\n",
       "    <tr>\n",
       "      <th>12</th>\n",
       "      <td>2022 Mercedes-Benz GLB 250 GLB 250</td>\n",
       "      <td>6,624 mi.</td>\n",
       "      <td>Mercedes-Benz of Palm Springs</td>\n",
       "      <td>4.3</td>\n",
       "      <td>(345 reviews)</td>\n",
       "      <td>$40,985</td>\n",
       "    </tr>\n",
       "    <tr>\n",
       "      <th>13</th>\n",
       "      <td>2020 Mercedes-Benz CLS 450 CLS 450</td>\n",
       "      <td>15,326 mi.</td>\n",
       "      <td>Helms Bros., Inc.</td>\n",
       "      <td>4.8</td>\n",
       "      <td>(2,098 reviews)</td>\n",
       "      <td>$69,981</td>\n",
       "    </tr>\n",
       "    <tr>\n",
       "      <th>14</th>\n",
       "      <td>2022 Mercedes-Benz GLC 300</td>\n",
       "      <td>7,585 mi.</td>\n",
       "      <td>Mercedes-Benz of Palm Springs</td>\n",
       "      <td>4.3</td>\n",
       "      <td>(345 reviews)</td>\n",
       "      <td>$42,985</td>\n",
       "    </tr>\n",
       "    <tr>\n",
       "      <th>15</th>\n",
       "      <td>2022 Mercedes-Benz GLC 300</td>\n",
       "      <td>10,845 mi.</td>\n",
       "      <td>Mercedes-Benz of Palm Springs</td>\n",
       "      <td>4.3</td>\n",
       "      <td>(345 reviews)</td>\n",
       "      <td>$40,985</td>\n",
       "    </tr>\n",
       "    <tr>\n",
       "      <th>16</th>\n",
       "      <td>2022 Mercedes-Benz GLB 250 GLB 250</td>\n",
       "      <td>3,753 mi.</td>\n",
       "      <td>Mercedes-Benz of Palm Springs</td>\n",
       "      <td>4.3</td>\n",
       "      <td>(345 reviews)</td>\n",
       "      <td>$43,985</td>\n",
       "    </tr>\n",
       "    <tr>\n",
       "      <th>17</th>\n",
       "      <td>2022 Mercedes-Benz GLB 250 GLB 250</td>\n",
       "      <td>4,119 mi.</td>\n",
       "      <td>Mercedes-Benz of Palm Springs</td>\n",
       "      <td>4.3</td>\n",
       "      <td>(345 reviews)</td>\n",
       "      <td>$38,985</td>\n",
       "    </tr>\n",
       "    <tr>\n",
       "      <th>18</th>\n",
       "      <td>2021 Mercedes-Benz C-Class C 300</td>\n",
       "      <td>5,738 mi.</td>\n",
       "      <td>Mercedes-Benz of Palm Springs</td>\n",
       "      <td>4.3</td>\n",
       "      <td>(345 reviews)</td>\n",
       "      <td>$59,985</td>\n",
       "    </tr>\n",
       "    <tr>\n",
       "      <th>19</th>\n",
       "      <td>2021 Mercedes-Benz C-Class AMG C 43</td>\n",
       "      <td>9,394 mi.</td>\n",
       "      <td>Berglund Luxury Lynchburg</td>\n",
       "      <td>n/a</td>\n",
       "      <td>(421 reviews)</td>\n",
       "      <td>$65,950</td>\n",
       "    </tr>\n",
       "  </tbody>\n",
       "</table>\n",
       "</div>"
      ],
      "text/plain": [
       "                                         Name     Mileage  \\\n",
       "0            2018 Mercedes-Benz AMG S 65 Base  16,324 mi.   \n",
       "1      2020 Mercedes-Benz GLE 350 Base 4MATIC  23,253 mi.   \n",
       "2     2021 Mercedes-Benz AMG E 53 Base 4MATIC   2,987 mi.   \n",
       "3      2021 Mercedes-Benz GLS 580 Base 4MATIC  12,235 mi.   \n",
       "4       2019 Mercedes-Benz AMG GT 63 S 4-Door  30,750 mi.   \n",
       "5     2020 Mercedes-Benz C-Class C 300 4MATIC  20,210 mi.   \n",
       "6   2019 Mercedes-Benz GLC 300 GLC 300 4matic  41,001 mi.   \n",
       "7          2020 Mercedes-Benz CLS 450 CLS 450   8,603 mi.   \n",
       "8            2019 Mercedes-Benz C-Class C 300   9,216 mi.   \n",
       "9     2019 Mercedes-Benz S-Class S 560 4matic  34,021 mi.   \n",
       "10   2018 Mercedes-Benz AMG GLE 43 AMG GLE 43  44,030 mi.   \n",
       "11         2022 Mercedes-Benz GLC 300 GLC 300   3,485 mi.   \n",
       "12         2022 Mercedes-Benz GLB 250 GLB 250   6,624 mi.   \n",
       "13         2020 Mercedes-Benz CLS 450 CLS 450  15,326 mi.   \n",
       "14                2022 Mercedes-Benz GLC 300    7,585 mi.   \n",
       "15                2022 Mercedes-Benz GLC 300   10,845 mi.   \n",
       "16         2022 Mercedes-Benz GLB 250 GLB 250   3,753 mi.   \n",
       "17         2022 Mercedes-Benz GLB 250 GLB 250   4,119 mi.   \n",
       "18           2021 Mercedes-Benz C-Class C 300   5,738 mi.   \n",
       "19        2021 Mercedes-Benz C-Class AMG C 43   9,394 mi.   \n",
       "\n",
       "                          Dealer Name Rating     Review Count     Price  \n",
       "0   Mercedes-Benz of Houston Greenway    4.8  (2,260 reviews)  $148,991  \n",
       "1   Mercedes-Benz of Houston Greenway    4.8  (2,260 reviews)   $51,986  \n",
       "2      Mercedes-Benz of Wesley Chapel    4.4    (708 reviews)   $90,280  \n",
       "3      Mercedes-Benz of Stevens Creek    4.5  (1,851 reviews)  $100,955  \n",
       "4    Mercedes-Benz of Fort Lauderdale    4.6  (1,070 reviews)  $111,900  \n",
       "5           Mercedes-Benz of Marietta    4.7    (511 reviews)   $38,399  \n",
       "6         Mercedes-Benz of Morgantown    n/a       (1 review)   $38,752  \n",
       "7       Mercedes-Benz of Palm Springs    4.3    (345 reviews)   $67,985  \n",
       "8      Mercedes-Benz of Stevens Creek    4.5  (1,851 reviews)   $33,455  \n",
       "9         Mercedes-Benz of Morgantown    n/a       (1 review)   $73,523  \n",
       "10        Mercedes-Benz of Morgantown    n/a       (1 review)   $59,900  \n",
       "11      Mercedes-Benz of Palm Springs    4.3    (345 reviews)   $42,985  \n",
       "12      Mercedes-Benz of Palm Springs    4.3    (345 reviews)   $40,985  \n",
       "13                  Helms Bros., Inc.    4.8  (2,098 reviews)   $69,981  \n",
       "14      Mercedes-Benz of Palm Springs    4.3    (345 reviews)   $42,985  \n",
       "15      Mercedes-Benz of Palm Springs    4.3    (345 reviews)   $40,985  \n",
       "16      Mercedes-Benz of Palm Springs    4.3    (345 reviews)   $43,985  \n",
       "17      Mercedes-Benz of Palm Springs    4.3    (345 reviews)   $38,985  \n",
       "18      Mercedes-Benz of Palm Springs    4.3    (345 reviews)   $59,985  \n",
       "19          Berglund Luxury Lynchburg    n/a    (421 reviews)   $65,950  "
      ]
     },
     "execution_count": 44,
     "metadata": {},
     "output_type": "execute_result"
    }
   ],
   "source": [
    "car_dealer"
   ]
  },
  {
   "cell_type": "markdown",
   "metadata": {},
   "source": [
    "#### Data Cleaning"
   ]
  },
  {
   "cell_type": "code",
   "execution_count": 45,
   "metadata": {},
   "outputs": [],
   "source": [
    "car_dealer['Review Count'] = car_dealer['Review Count'].apply(lambda x: x.strip('reviews)').strip('('))"
   ]
  },
  {
   "cell_type": "code",
   "execution_count": 46,
   "metadata": {},
   "outputs": [
    {
     "data": {
      "text/html": [
       "<div>\n",
       "<style scoped>\n",
       "    .dataframe tbody tr th:only-of-type {\n",
       "        vertical-align: middle;\n",
       "    }\n",
       "\n",
       "    .dataframe tbody tr th {\n",
       "        vertical-align: top;\n",
       "    }\n",
       "\n",
       "    .dataframe thead th {\n",
       "        text-align: right;\n",
       "    }\n",
       "</style>\n",
       "<table border=\"1\" class=\"dataframe\">\n",
       "  <thead>\n",
       "    <tr style=\"text-align: right;\">\n",
       "      <th></th>\n",
       "      <th>Name</th>\n",
       "      <th>Mileage</th>\n",
       "      <th>Dealer Name</th>\n",
       "      <th>Rating</th>\n",
       "      <th>Review Count</th>\n",
       "      <th>Price</th>\n",
       "    </tr>\n",
       "  </thead>\n",
       "  <tbody>\n",
       "    <tr>\n",
       "      <th>0</th>\n",
       "      <td>2018 Mercedes-Benz AMG S 65 Base</td>\n",
       "      <td>16,324 mi.</td>\n",
       "      <td>Mercedes-Benz of Houston Greenway</td>\n",
       "      <td>4.8</td>\n",
       "      <td>2,260</td>\n",
       "      <td>$148,991</td>\n",
       "    </tr>\n",
       "    <tr>\n",
       "      <th>1</th>\n",
       "      <td>2020 Mercedes-Benz GLE 350 Base 4MATIC</td>\n",
       "      <td>23,253 mi.</td>\n",
       "      <td>Mercedes-Benz of Houston Greenway</td>\n",
       "      <td>4.8</td>\n",
       "      <td>2,260</td>\n",
       "      <td>$51,986</td>\n",
       "    </tr>\n",
       "    <tr>\n",
       "      <th>2</th>\n",
       "      <td>2021 Mercedes-Benz AMG E 53 Base 4MATIC</td>\n",
       "      <td>2,987 mi.</td>\n",
       "      <td>Mercedes-Benz of Wesley Chapel</td>\n",
       "      <td>4.4</td>\n",
       "      <td>708</td>\n",
       "      <td>$90,280</td>\n",
       "    </tr>\n",
       "    <tr>\n",
       "      <th>3</th>\n",
       "      <td>2021 Mercedes-Benz GLS 580 Base 4MATIC</td>\n",
       "      <td>12,235 mi.</td>\n",
       "      <td>Mercedes-Benz of Stevens Creek</td>\n",
       "      <td>4.5</td>\n",
       "      <td>1,851</td>\n",
       "      <td>$100,955</td>\n",
       "    </tr>\n",
       "    <tr>\n",
       "      <th>4</th>\n",
       "      <td>2019 Mercedes-Benz AMG GT 63 S 4-Door</td>\n",
       "      <td>30,750 mi.</td>\n",
       "      <td>Mercedes-Benz of Fort Lauderdale</td>\n",
       "      <td>4.6</td>\n",
       "      <td>1,070</td>\n",
       "      <td>$111,900</td>\n",
       "    </tr>\n",
       "    <tr>\n",
       "      <th>5</th>\n",
       "      <td>2020 Mercedes-Benz C-Class C 300 4MATIC</td>\n",
       "      <td>20,210 mi.</td>\n",
       "      <td>Mercedes-Benz of Marietta</td>\n",
       "      <td>4.7</td>\n",
       "      <td>511</td>\n",
       "      <td>$38,399</td>\n",
       "    </tr>\n",
       "    <tr>\n",
       "      <th>6</th>\n",
       "      <td>2019 Mercedes-Benz GLC 300 GLC 300 4matic</td>\n",
       "      <td>41,001 mi.</td>\n",
       "      <td>Mercedes-Benz of Morgantown</td>\n",
       "      <td>n/a</td>\n",
       "      <td>1</td>\n",
       "      <td>$38,752</td>\n",
       "    </tr>\n",
       "    <tr>\n",
       "      <th>7</th>\n",
       "      <td>2020 Mercedes-Benz CLS 450 CLS 450</td>\n",
       "      <td>8,603 mi.</td>\n",
       "      <td>Mercedes-Benz of Palm Springs</td>\n",
       "      <td>4.3</td>\n",
       "      <td>345</td>\n",
       "      <td>$67,985</td>\n",
       "    </tr>\n",
       "    <tr>\n",
       "      <th>8</th>\n",
       "      <td>2019 Mercedes-Benz C-Class C 300</td>\n",
       "      <td>9,216 mi.</td>\n",
       "      <td>Mercedes-Benz of Stevens Creek</td>\n",
       "      <td>4.5</td>\n",
       "      <td>1,851</td>\n",
       "      <td>$33,455</td>\n",
       "    </tr>\n",
       "    <tr>\n",
       "      <th>9</th>\n",
       "      <td>2019 Mercedes-Benz S-Class S 560 4matic</td>\n",
       "      <td>34,021 mi.</td>\n",
       "      <td>Mercedes-Benz of Morgantown</td>\n",
       "      <td>n/a</td>\n",
       "      <td>1</td>\n",
       "      <td>$73,523</td>\n",
       "    </tr>\n",
       "    <tr>\n",
       "      <th>10</th>\n",
       "      <td>2018 Mercedes-Benz AMG GLE 43 AMG GLE 43</td>\n",
       "      <td>44,030 mi.</td>\n",
       "      <td>Mercedes-Benz of Morgantown</td>\n",
       "      <td>n/a</td>\n",
       "      <td>1</td>\n",
       "      <td>$59,900</td>\n",
       "    </tr>\n",
       "    <tr>\n",
       "      <th>11</th>\n",
       "      <td>2022 Mercedes-Benz GLC 300 GLC 300</td>\n",
       "      <td>3,485 mi.</td>\n",
       "      <td>Mercedes-Benz of Palm Springs</td>\n",
       "      <td>4.3</td>\n",
       "      <td>345</td>\n",
       "      <td>$42,985</td>\n",
       "    </tr>\n",
       "    <tr>\n",
       "      <th>12</th>\n",
       "      <td>2022 Mercedes-Benz GLB 250 GLB 250</td>\n",
       "      <td>6,624 mi.</td>\n",
       "      <td>Mercedes-Benz of Palm Springs</td>\n",
       "      <td>4.3</td>\n",
       "      <td>345</td>\n",
       "      <td>$40,985</td>\n",
       "    </tr>\n",
       "    <tr>\n",
       "      <th>13</th>\n",
       "      <td>2020 Mercedes-Benz CLS 450 CLS 450</td>\n",
       "      <td>15,326 mi.</td>\n",
       "      <td>Helms Bros., Inc.</td>\n",
       "      <td>4.8</td>\n",
       "      <td>2,098</td>\n",
       "      <td>$69,981</td>\n",
       "    </tr>\n",
       "    <tr>\n",
       "      <th>14</th>\n",
       "      <td>2022 Mercedes-Benz GLC 300</td>\n",
       "      <td>7,585 mi.</td>\n",
       "      <td>Mercedes-Benz of Palm Springs</td>\n",
       "      <td>4.3</td>\n",
       "      <td>345</td>\n",
       "      <td>$42,985</td>\n",
       "    </tr>\n",
       "    <tr>\n",
       "      <th>15</th>\n",
       "      <td>2022 Mercedes-Benz GLC 300</td>\n",
       "      <td>10,845 mi.</td>\n",
       "      <td>Mercedes-Benz of Palm Springs</td>\n",
       "      <td>4.3</td>\n",
       "      <td>345</td>\n",
       "      <td>$40,985</td>\n",
       "    </tr>\n",
       "    <tr>\n",
       "      <th>16</th>\n",
       "      <td>2022 Mercedes-Benz GLB 250 GLB 250</td>\n",
       "      <td>3,753 mi.</td>\n",
       "      <td>Mercedes-Benz of Palm Springs</td>\n",
       "      <td>4.3</td>\n",
       "      <td>345</td>\n",
       "      <td>$43,985</td>\n",
       "    </tr>\n",
       "    <tr>\n",
       "      <th>17</th>\n",
       "      <td>2022 Mercedes-Benz GLB 250 GLB 250</td>\n",
       "      <td>4,119 mi.</td>\n",
       "      <td>Mercedes-Benz of Palm Springs</td>\n",
       "      <td>4.3</td>\n",
       "      <td>345</td>\n",
       "      <td>$38,985</td>\n",
       "    </tr>\n",
       "    <tr>\n",
       "      <th>18</th>\n",
       "      <td>2021 Mercedes-Benz C-Class C 300</td>\n",
       "      <td>5,738 mi.</td>\n",
       "      <td>Mercedes-Benz of Palm Springs</td>\n",
       "      <td>4.3</td>\n",
       "      <td>345</td>\n",
       "      <td>$59,985</td>\n",
       "    </tr>\n",
       "    <tr>\n",
       "      <th>19</th>\n",
       "      <td>2021 Mercedes-Benz C-Class AMG C 43</td>\n",
       "      <td>9,394 mi.</td>\n",
       "      <td>Berglund Luxury Lynchburg</td>\n",
       "      <td>n/a</td>\n",
       "      <td>421</td>\n",
       "      <td>$65,950</td>\n",
       "    </tr>\n",
       "  </tbody>\n",
       "</table>\n",
       "</div>"
      ],
      "text/plain": [
       "                                         Name     Mileage  \\\n",
       "0            2018 Mercedes-Benz AMG S 65 Base  16,324 mi.   \n",
       "1      2020 Mercedes-Benz GLE 350 Base 4MATIC  23,253 mi.   \n",
       "2     2021 Mercedes-Benz AMG E 53 Base 4MATIC   2,987 mi.   \n",
       "3      2021 Mercedes-Benz GLS 580 Base 4MATIC  12,235 mi.   \n",
       "4       2019 Mercedes-Benz AMG GT 63 S 4-Door  30,750 mi.   \n",
       "5     2020 Mercedes-Benz C-Class C 300 4MATIC  20,210 mi.   \n",
       "6   2019 Mercedes-Benz GLC 300 GLC 300 4matic  41,001 mi.   \n",
       "7          2020 Mercedes-Benz CLS 450 CLS 450   8,603 mi.   \n",
       "8            2019 Mercedes-Benz C-Class C 300   9,216 mi.   \n",
       "9     2019 Mercedes-Benz S-Class S 560 4matic  34,021 mi.   \n",
       "10   2018 Mercedes-Benz AMG GLE 43 AMG GLE 43  44,030 mi.   \n",
       "11         2022 Mercedes-Benz GLC 300 GLC 300   3,485 mi.   \n",
       "12         2022 Mercedes-Benz GLB 250 GLB 250   6,624 mi.   \n",
       "13         2020 Mercedes-Benz CLS 450 CLS 450  15,326 mi.   \n",
       "14                2022 Mercedes-Benz GLC 300    7,585 mi.   \n",
       "15                2022 Mercedes-Benz GLC 300   10,845 mi.   \n",
       "16         2022 Mercedes-Benz GLB 250 GLB 250   3,753 mi.   \n",
       "17         2022 Mercedes-Benz GLB 250 GLB 250   4,119 mi.   \n",
       "18           2021 Mercedes-Benz C-Class C 300   5,738 mi.   \n",
       "19        2021 Mercedes-Benz C-Class AMG C 43   9,394 mi.   \n",
       "\n",
       "                          Dealer Name Rating Review Count     Price  \n",
       "0   Mercedes-Benz of Houston Greenway    4.8       2,260   $148,991  \n",
       "1   Mercedes-Benz of Houston Greenway    4.8       2,260    $51,986  \n",
       "2      Mercedes-Benz of Wesley Chapel    4.4         708    $90,280  \n",
       "3      Mercedes-Benz of Stevens Creek    4.5       1,851   $100,955  \n",
       "4    Mercedes-Benz of Fort Lauderdale    4.6       1,070   $111,900  \n",
       "5           Mercedes-Benz of Marietta    4.7         511    $38,399  \n",
       "6         Mercedes-Benz of Morgantown    n/a           1    $38,752  \n",
       "7       Mercedes-Benz of Palm Springs    4.3         345    $67,985  \n",
       "8      Mercedes-Benz of Stevens Creek    4.5       1,851    $33,455  \n",
       "9         Mercedes-Benz of Morgantown    n/a           1    $73,523  \n",
       "10        Mercedes-Benz of Morgantown    n/a           1    $59,900  \n",
       "11      Mercedes-Benz of Palm Springs    4.3         345    $42,985  \n",
       "12      Mercedes-Benz of Palm Springs    4.3         345    $40,985  \n",
       "13                  Helms Bros., Inc.    4.8       2,098    $69,981  \n",
       "14      Mercedes-Benz of Palm Springs    4.3         345    $42,985  \n",
       "15      Mercedes-Benz of Palm Springs    4.3         345    $40,985  \n",
       "16      Mercedes-Benz of Palm Springs    4.3         345    $43,985  \n",
       "17      Mercedes-Benz of Palm Springs    4.3         345    $38,985  \n",
       "18      Mercedes-Benz of Palm Springs    4.3         345    $59,985  \n",
       "19          Berglund Luxury Lynchburg    n/a         421    $65,950  "
      ]
     },
     "execution_count": 46,
     "metadata": {},
     "output_type": "execute_result"
    }
   ],
   "source": [
    "# dataframe updated\n",
    "car_dealer"
   ]
  },
  {
   "cell_type": "markdown",
   "metadata": {},
   "source": [
    "### Output in Excel"
   ]
  },
  {
   "cell_type": "code",
   "execution_count": 47,
   "metadata": {},
   "outputs": [],
   "source": [
    "car_dealer.to_excel('car_dealer_single_page.xlsx', index=False)"
   ]
  },
  {
   "cell_type": "markdown",
   "metadata": {},
   "source": [
    "### Part 2 - Pagination "
   ]
  },
  {
   "cell_type": "code",
   "execution_count": 48,
   "metadata": {},
   "outputs": [],
   "source": [
    "name = []\n",
    "mileage = []\n",
    "dealer_name = []\n",
    "rating = []\n",
    "review_count = []\n",
    "price = []\n",
    "\n",
    "for i in range (1,11):\n",
    "    \n",
    "    # website in variable\n",
    "    website = 'https://www.cars.com/shopping/results/?page='+ str(i) +'&page_size=20&dealer_id=&list_price_max=&list_price_min=&makes[]=mercedes_benz&maximum_distance=20&mileage_max=&sort=best_match_desc&stock_type=cpo&year_max=&year_min=&zip=' \n",
    "    \n",
    "    # request to website\n",
    "    response = requests.get(website)\n",
    "    \n",
    "    # soup object\n",
    "    soup = BeautifulSoup(response.content, 'html.parser')\n",
    "    \n",
    "    # results\n",
    "    results = soup.find_all('div', {'class' : 'vehicle-card'})\n",
    "    \n",
    "    # loop through results\n",
    "    for result in results:\n",
    "    \n",
    "        # name\n",
    "        try:\n",
    "            name.append(result.find('h2').get_text()) \n",
    "        except:\n",
    "            name.append('n/a')\n",
    "\n",
    "        # mileage\n",
    "        try:\n",
    "            mileage.append(result.find('div', {'class':'mileage'}).get_text())\n",
    "        except:\n",
    "            mileage.append('n/a')\n",
    "\n",
    "        # dealer_name\n",
    "        try:\n",
    "            dealer_name.append(result.find('div', {'class':'dealer-name'}).get_text().strip())\n",
    "        except:\n",
    "            dealer_name.append('n/a')\n",
    "\n",
    "        # rating\n",
    "        try:\n",
    "            rating.append(result.find('span', {'class':'sds-rating__count'}).get_text())\n",
    "        except:\n",
    "            rating.append('n/a')\n",
    "\n",
    "        # review_count\n",
    "        try:\n",
    "            review_count.append(result.find('span', {'class':'sds-rating__link'}).get_text())\n",
    "        except:\n",
    "            review_count.append('n/a')\n",
    "\n",
    "        #price \n",
    "        try:\n",
    "            price.append(result.find('span', {'class':'primary-price'}).get_text())\n",
    "        except:\n",
    "            price.append('n/a')"
   ]
  },
  {
   "cell_type": "code",
   "execution_count": 49,
   "metadata": {},
   "outputs": [],
   "source": [
    "# dictionary\n",
    "car_dealer = pd.DataFrame({'Name': name, 'Mileage':mileage, 'Dealer Name':dealer_name,\n",
    "                                'Rating': rating, 'Review Count': review_count, 'Price': price})"
   ]
  },
  {
   "cell_type": "code",
   "execution_count": 50,
   "metadata": {},
   "outputs": [
    {
     "data": {
      "text/html": [
       "<div>\n",
       "<style scoped>\n",
       "    .dataframe tbody tr th:only-of-type {\n",
       "        vertical-align: middle;\n",
       "    }\n",
       "\n",
       "    .dataframe tbody tr th {\n",
       "        vertical-align: top;\n",
       "    }\n",
       "\n",
       "    .dataframe thead th {\n",
       "        text-align: right;\n",
       "    }\n",
       "</style>\n",
       "<table border=\"1\" class=\"dataframe\">\n",
       "  <thead>\n",
       "    <tr style=\"text-align: right;\">\n",
       "      <th></th>\n",
       "      <th>Name</th>\n",
       "      <th>Mileage</th>\n",
       "      <th>Dealer Name</th>\n",
       "      <th>Rating</th>\n",
       "      <th>Review Count</th>\n",
       "      <th>Price</th>\n",
       "    </tr>\n",
       "  </thead>\n",
       "  <tbody>\n",
       "    <tr>\n",
       "      <th>0</th>\n",
       "      <td>2018 Mercedes-Benz AMG S 65 Base</td>\n",
       "      <td>16,324 mi.</td>\n",
       "      <td>Mercedes-Benz of Houston Greenway</td>\n",
       "      <td>4.8</td>\n",
       "      <td>(2,260 reviews)</td>\n",
       "      <td>$148,991</td>\n",
       "    </tr>\n",
       "    <tr>\n",
       "      <th>1</th>\n",
       "      <td>2020 Mercedes-Benz GLE 350 Base 4MATIC</td>\n",
       "      <td>23,253 mi.</td>\n",
       "      <td>Mercedes-Benz of Houston Greenway</td>\n",
       "      <td>4.8</td>\n",
       "      <td>(2,260 reviews)</td>\n",
       "      <td>$51,986</td>\n",
       "    </tr>\n",
       "    <tr>\n",
       "      <th>2</th>\n",
       "      <td>2021 Mercedes-Benz AMG E 53 Base 4MATIC</td>\n",
       "      <td>2,987 mi.</td>\n",
       "      <td>Mercedes-Benz of Wesley Chapel</td>\n",
       "      <td>4.4</td>\n",
       "      <td>(708 reviews)</td>\n",
       "      <td>$90,280</td>\n",
       "    </tr>\n",
       "    <tr>\n",
       "      <th>3</th>\n",
       "      <td>2021 Mercedes-Benz GLS 580 Base 4MATIC</td>\n",
       "      <td>12,235 mi.</td>\n",
       "      <td>Mercedes-Benz of Stevens Creek</td>\n",
       "      <td>4.5</td>\n",
       "      <td>(1,851 reviews)</td>\n",
       "      <td>$100,955</td>\n",
       "    </tr>\n",
       "    <tr>\n",
       "      <th>4</th>\n",
       "      <td>2019 Mercedes-Benz AMG GT 63 S 4-Door</td>\n",
       "      <td>30,750 mi.</td>\n",
       "      <td>Mercedes-Benz of Fort Lauderdale</td>\n",
       "      <td>4.6</td>\n",
       "      <td>(1,070 reviews)</td>\n",
       "      <td>$111,900</td>\n",
       "    </tr>\n",
       "    <tr>\n",
       "      <th>...</th>\n",
       "      <td>...</td>\n",
       "      <td>...</td>\n",
       "      <td>...</td>\n",
       "      <td>...</td>\n",
       "      <td>...</td>\n",
       "      <td>...</td>\n",
       "    </tr>\n",
       "    <tr>\n",
       "      <th>195</th>\n",
       "      <td>2018 Mercedes-Benz S-Class S 560</td>\n",
       "      <td>39,530 mi.</td>\n",
       "      <td>RBM of Alpharetta</td>\n",
       "      <td>5.0</td>\n",
       "      <td>(5,334 reviews)</td>\n",
       "      <td>$63,797</td>\n",
       "    </tr>\n",
       "    <tr>\n",
       "      <th>196</th>\n",
       "      <td>2020 Mercedes-Benz GLE 350 GLE 350</td>\n",
       "      <td>43,400 mi.</td>\n",
       "      <td>Sun Motor Cars</td>\n",
       "      <td>n/a</td>\n",
       "      <td>(11 reviews)</td>\n",
       "      <td>$52,999</td>\n",
       "    </tr>\n",
       "    <tr>\n",
       "      <th>197</th>\n",
       "      <td>2018 Mercedes-Benz C-Class C 300 4MATIC Cabriolet</td>\n",
       "      <td>26,877 mi.</td>\n",
       "      <td>Mercedes-Benz of Raleigh</td>\n",
       "      <td>5.0</td>\n",
       "      <td>(1,657 reviews)</td>\n",
       "      <td>$50,700</td>\n",
       "    </tr>\n",
       "    <tr>\n",
       "      <th>198</th>\n",
       "      <td>2020 Mercedes-Benz GLE 350 4MATIC</td>\n",
       "      <td>34,745 mi.</td>\n",
       "      <td>Mercedes-Benz of Shrewsbury</td>\n",
       "      <td>4.3</td>\n",
       "      <td>(199 reviews)</td>\n",
       "      <td>$54,599</td>\n",
       "    </tr>\n",
       "    <tr>\n",
       "      <th>199</th>\n",
       "      <td>2018 Mercedes-Benz AMG GLE 43 AMG GLE 43</td>\n",
       "      <td>50,698 mi.</td>\n",
       "      <td>Mercedes-Benz of Wilsonville</td>\n",
       "      <td>4.1</td>\n",
       "      <td>(725 reviews)</td>\n",
       "      <td>Not Priced</td>\n",
       "    </tr>\n",
       "  </tbody>\n",
       "</table>\n",
       "<p>200 rows × 6 columns</p>\n",
       "</div>"
      ],
      "text/plain": [
       "                                                  Name     Mileage  \\\n",
       "0                     2018 Mercedes-Benz AMG S 65 Base  16,324 mi.   \n",
       "1               2020 Mercedes-Benz GLE 350 Base 4MATIC  23,253 mi.   \n",
       "2              2021 Mercedes-Benz AMG E 53 Base 4MATIC   2,987 mi.   \n",
       "3               2021 Mercedes-Benz GLS 580 Base 4MATIC  12,235 mi.   \n",
       "4                2019 Mercedes-Benz AMG GT 63 S 4-Door  30,750 mi.   \n",
       "..                                                 ...         ...   \n",
       "195                   2018 Mercedes-Benz S-Class S 560  39,530 mi.   \n",
       "196                 2020 Mercedes-Benz GLE 350 GLE 350  43,400 mi.   \n",
       "197  2018 Mercedes-Benz C-Class C 300 4MATIC Cabriolet  26,877 mi.   \n",
       "198                  2020 Mercedes-Benz GLE 350 4MATIC  34,745 mi.   \n",
       "199           2018 Mercedes-Benz AMG GLE 43 AMG GLE 43  50,698 mi.   \n",
       "\n",
       "                           Dealer Name Rating     Review Count       Price  \n",
       "0    Mercedes-Benz of Houston Greenway    4.8  (2,260 reviews)    $148,991  \n",
       "1    Mercedes-Benz of Houston Greenway    4.8  (2,260 reviews)     $51,986  \n",
       "2       Mercedes-Benz of Wesley Chapel    4.4    (708 reviews)     $90,280  \n",
       "3       Mercedes-Benz of Stevens Creek    4.5  (1,851 reviews)    $100,955  \n",
       "4     Mercedes-Benz of Fort Lauderdale    4.6  (1,070 reviews)    $111,900  \n",
       "..                                 ...    ...              ...         ...  \n",
       "195                  RBM of Alpharetta    5.0  (5,334 reviews)     $63,797  \n",
       "196                     Sun Motor Cars    n/a     (11 reviews)     $52,999  \n",
       "197           Mercedes-Benz of Raleigh    5.0  (1,657 reviews)     $50,700  \n",
       "198        Mercedes-Benz of Shrewsbury    4.3    (199 reviews)     $54,599  \n",
       "199       Mercedes-Benz of Wilsonville    4.1    (725 reviews)  Not Priced  \n",
       "\n",
       "[200 rows x 6 columns]"
      ]
     },
     "execution_count": 50,
     "metadata": {},
     "output_type": "execute_result"
    }
   ],
   "source": [
    "car_dealer"
   ]
  },
  {
   "cell_type": "code",
   "execution_count": 51,
   "metadata": {},
   "outputs": [],
   "source": [
    "car_dealer['Review Count'] = car_dealer['Review Count'].apply(lambda x: x.strip('reviews)').strip('('))"
   ]
  },
  {
   "cell_type": "code",
   "execution_count": 52,
   "metadata": {},
   "outputs": [
    {
     "data": {
      "text/html": [
       "<div>\n",
       "<style scoped>\n",
       "    .dataframe tbody tr th:only-of-type {\n",
       "        vertical-align: middle;\n",
       "    }\n",
       "\n",
       "    .dataframe tbody tr th {\n",
       "        vertical-align: top;\n",
       "    }\n",
       "\n",
       "    .dataframe thead th {\n",
       "        text-align: right;\n",
       "    }\n",
       "</style>\n",
       "<table border=\"1\" class=\"dataframe\">\n",
       "  <thead>\n",
       "    <tr style=\"text-align: right;\">\n",
       "      <th></th>\n",
       "      <th>Name</th>\n",
       "      <th>Mileage</th>\n",
       "      <th>Dealer Name</th>\n",
       "      <th>Rating</th>\n",
       "      <th>Review Count</th>\n",
       "      <th>Price</th>\n",
       "    </tr>\n",
       "  </thead>\n",
       "  <tbody>\n",
       "    <tr>\n",
       "      <th>0</th>\n",
       "      <td>2018 Mercedes-Benz AMG S 65 Base</td>\n",
       "      <td>16,324 mi.</td>\n",
       "      <td>Mercedes-Benz of Houston Greenway</td>\n",
       "      <td>4.8</td>\n",
       "      <td>2,260</td>\n",
       "      <td>$148,991</td>\n",
       "    </tr>\n",
       "    <tr>\n",
       "      <th>1</th>\n",
       "      <td>2020 Mercedes-Benz GLE 350 Base 4MATIC</td>\n",
       "      <td>23,253 mi.</td>\n",
       "      <td>Mercedes-Benz of Houston Greenway</td>\n",
       "      <td>4.8</td>\n",
       "      <td>2,260</td>\n",
       "      <td>$51,986</td>\n",
       "    </tr>\n",
       "    <tr>\n",
       "      <th>2</th>\n",
       "      <td>2021 Mercedes-Benz AMG E 53 Base 4MATIC</td>\n",
       "      <td>2,987 mi.</td>\n",
       "      <td>Mercedes-Benz of Wesley Chapel</td>\n",
       "      <td>4.4</td>\n",
       "      <td>708</td>\n",
       "      <td>$90,280</td>\n",
       "    </tr>\n",
       "    <tr>\n",
       "      <th>3</th>\n",
       "      <td>2021 Mercedes-Benz GLS 580 Base 4MATIC</td>\n",
       "      <td>12,235 mi.</td>\n",
       "      <td>Mercedes-Benz of Stevens Creek</td>\n",
       "      <td>4.5</td>\n",
       "      <td>1,851</td>\n",
       "      <td>$100,955</td>\n",
       "    </tr>\n",
       "    <tr>\n",
       "      <th>4</th>\n",
       "      <td>2019 Mercedes-Benz AMG GT 63 S 4-Door</td>\n",
       "      <td>30,750 mi.</td>\n",
       "      <td>Mercedes-Benz of Fort Lauderdale</td>\n",
       "      <td>4.6</td>\n",
       "      <td>1,070</td>\n",
       "      <td>$111,900</td>\n",
       "    </tr>\n",
       "    <tr>\n",
       "      <th>...</th>\n",
       "      <td>...</td>\n",
       "      <td>...</td>\n",
       "      <td>...</td>\n",
       "      <td>...</td>\n",
       "      <td>...</td>\n",
       "      <td>...</td>\n",
       "    </tr>\n",
       "    <tr>\n",
       "      <th>195</th>\n",
       "      <td>2018 Mercedes-Benz S-Class S 560</td>\n",
       "      <td>39,530 mi.</td>\n",
       "      <td>RBM of Alpharetta</td>\n",
       "      <td>5.0</td>\n",
       "      <td>5,334</td>\n",
       "      <td>$63,797</td>\n",
       "    </tr>\n",
       "    <tr>\n",
       "      <th>196</th>\n",
       "      <td>2020 Mercedes-Benz GLE 350 GLE 350</td>\n",
       "      <td>43,400 mi.</td>\n",
       "      <td>Sun Motor Cars</td>\n",
       "      <td>n/a</td>\n",
       "      <td>11</td>\n",
       "      <td>$52,999</td>\n",
       "    </tr>\n",
       "    <tr>\n",
       "      <th>197</th>\n",
       "      <td>2018 Mercedes-Benz C-Class C 300 4MATIC Cabriolet</td>\n",
       "      <td>26,877 mi.</td>\n",
       "      <td>Mercedes-Benz of Raleigh</td>\n",
       "      <td>5.0</td>\n",
       "      <td>1,657</td>\n",
       "      <td>$50,700</td>\n",
       "    </tr>\n",
       "    <tr>\n",
       "      <th>198</th>\n",
       "      <td>2020 Mercedes-Benz GLE 350 4MATIC</td>\n",
       "      <td>34,745 mi.</td>\n",
       "      <td>Mercedes-Benz of Shrewsbury</td>\n",
       "      <td>4.3</td>\n",
       "      <td>199</td>\n",
       "      <td>$54,599</td>\n",
       "    </tr>\n",
       "    <tr>\n",
       "      <th>199</th>\n",
       "      <td>2018 Mercedes-Benz AMG GLE 43 AMG GLE 43</td>\n",
       "      <td>50,698 mi.</td>\n",
       "      <td>Mercedes-Benz of Wilsonville</td>\n",
       "      <td>4.1</td>\n",
       "      <td>725</td>\n",
       "      <td>Not Priced</td>\n",
       "    </tr>\n",
       "  </tbody>\n",
       "</table>\n",
       "<p>200 rows × 6 columns</p>\n",
       "</div>"
      ],
      "text/plain": [
       "                                                  Name     Mileage  \\\n",
       "0                     2018 Mercedes-Benz AMG S 65 Base  16,324 mi.   \n",
       "1               2020 Mercedes-Benz GLE 350 Base 4MATIC  23,253 mi.   \n",
       "2              2021 Mercedes-Benz AMG E 53 Base 4MATIC   2,987 mi.   \n",
       "3               2021 Mercedes-Benz GLS 580 Base 4MATIC  12,235 mi.   \n",
       "4                2019 Mercedes-Benz AMG GT 63 S 4-Door  30,750 mi.   \n",
       "..                                                 ...         ...   \n",
       "195                   2018 Mercedes-Benz S-Class S 560  39,530 mi.   \n",
       "196                 2020 Mercedes-Benz GLE 350 GLE 350  43,400 mi.   \n",
       "197  2018 Mercedes-Benz C-Class C 300 4MATIC Cabriolet  26,877 mi.   \n",
       "198                  2020 Mercedes-Benz GLE 350 4MATIC  34,745 mi.   \n",
       "199           2018 Mercedes-Benz AMG GLE 43 AMG GLE 43  50,698 mi.   \n",
       "\n",
       "                           Dealer Name Rating Review Count       Price  \n",
       "0    Mercedes-Benz of Houston Greenway    4.8       2,260     $148,991  \n",
       "1    Mercedes-Benz of Houston Greenway    4.8       2,260      $51,986  \n",
       "2       Mercedes-Benz of Wesley Chapel    4.4         708      $90,280  \n",
       "3       Mercedes-Benz of Stevens Creek    4.5       1,851     $100,955  \n",
       "4     Mercedes-Benz of Fort Lauderdale    4.6       1,070     $111,900  \n",
       "..                                 ...    ...          ...         ...  \n",
       "195                  RBM of Alpharetta    5.0       5,334      $63,797  \n",
       "196                     Sun Motor Cars    n/a          11      $52,999  \n",
       "197           Mercedes-Benz of Raleigh    5.0       1,657      $50,700  \n",
       "198        Mercedes-Benz of Shrewsbury    4.3         199      $54,599  \n",
       "199       Mercedes-Benz of Wilsonville    4.1         725   Not Priced  \n",
       "\n",
       "[200 rows x 6 columns]"
      ]
     },
     "execution_count": 52,
     "metadata": {},
     "output_type": "execute_result"
    }
   ],
   "source": [
    "car_dealer"
   ]
  },
  {
   "cell_type": "markdown",
   "metadata": {},
   "source": [
    "### Output in Excel"
   ]
  },
  {
   "cell_type": "code",
   "execution_count": 53,
   "metadata": {},
   "outputs": [],
   "source": [
    "car_dealer.to_excel('car_dealer_multi_page.xlsx', index=False)"
   ]
  }
 ],
 "metadata": {
  "kernelspec": {
   "display_name": "Python 3 (ipykernel)",
   "language": "python",
   "name": "python3"
  },
  "language_info": {
   "codemirror_mode": {
    "name": "ipython",
    "version": 3
   },
   "file_extension": ".py",
   "mimetype": "text/x-python",
   "name": "python",
   "nbconvert_exporter": "python",
   "pygments_lexer": "ipython3",
   "version": "3.8.5"
  },
  "varInspector": {
   "cols": {
    "lenName": 16,
    "lenType": 16,
    "lenVar": 40
   },
   "kernels_config": {
    "python": {
     "delete_cmd_postfix": "",
     "delete_cmd_prefix": "del ",
     "library": "var_list.py",
     "varRefreshCmd": "print(var_dic_list())"
    },
    "r": {
     "delete_cmd_postfix": ") ",
     "delete_cmd_prefix": "rm(",
     "library": "var_list.r",
     "varRefreshCmd": "cat(var_dic_list()) "
    }
   },
   "types_to_exclude": [
    "module",
    "function",
    "builtin_function_or_method",
    "instance",
    "_Feature"
   ],
   "window_display": false
  }
 },
 "nbformat": 4,
 "nbformat_minor": 4
}
